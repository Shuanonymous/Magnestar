{
 "cells": [
  {
   "cell_type": "code",
   "execution_count": 32,
   "metadata": {},
   "outputs": [
    {
     "name": "stdout",
     "output_type": "stream",
     "text": [
      "What Filter Method would you like to use?\n",
      "Below is the data filtered based on Operator and Frequency Band:\n",
      "                sat name  NORAD  \\\n",
      "11        OSCAR 7 (AO-7)   7530   \n",
      "15       UOSAT 2 (UO-11)  14781   \n",
      "21         LUSAT (LO-19)  20442   \n",
      "47      GALAXY 25 (G-25)  24812   \n",
      "49     INTELSAT 5 (IS-5)  24916   \n",
      "..                   ...    ...   \n",
      "308             OPTUS D2  32252   \n",
      "309  INTELSAT 11 (IS-11)  32253   \n",
      "320  ASTRA 4A (SIRIUS 4)  32299   \n",
      "324           HORIZONS-2  32388   \n",
      "328         EXPRESS-AM33  32478   \n",
      "\n",
      "                                            Operator FrequencyBand  \n",
      "11       RASC (Radio Amatuer Satellite Corporation)         HF/VHF  \n",
      "15       RASC (Radio Amatuer Satellite Corporation)        VHF/UHF  \n",
      "21       RASC (Radio Amatuer Satellite Corporation)        VHF/UHF  \n",
      "47                                     Intelsat S.A.             C  \n",
      "49                                     Intelsat S.A.          Ku/C  \n",
      "..                                               ...           ...  \n",
      "308                                            Optus            Ku  \n",
      "309                                    Intelsat S.A.             C  \n",
      "320                                              SES         Ku/Ka  \n",
      "324                                   Intelsat S.A.             Ku  \n",
      "328  Russian Satellite Communications Company (RSCC)            Ku  \n",
      "\n",
      "[66 rows x 4 columns]\n"
     ]
    }
   ],
   "source": [
    "import pandas as pd\n",
    "import numpy as np\n",
    "data = pd.read_csv('satellites.csv')\n",
    "\n",
    "print (\"What Filter Method would you like to use?\")\n",
    "\n",
    "filter = input (\"Enter a filter (OP = Operator, F = Frequency Band, B = Both)\")\n",
    "\n",
    "if (filter == 'OP'):\n",
    "\n",
    "    newdata=data.loc[data.index[0:334],[\"sat name\", \"NORAD\", \"Operator\"]] #selecting the Column to display based on the filter\n",
    "    finaldata = newdata[newdata.Operator.notnull()] #excluding blank values\n",
    "    \n",
    "    print (\"Below is the data filtered based on Operator:\") \n",
    "    print (finaldata)\n",
    "\n",
    "elif (filter=='F'):\n",
    "    newdata=data.loc[data.index[0:334],[\"sat name\", \"NORAD\", \"FrequencyBand\"]] #selecting the Column to display based on the filter\n",
    "    finaldata = newdata[newdata.FrequencyBand.notnull()] #excluding blank values\n",
    "\n",
    "    print (\"Below is the data filtered based on Frequency Band:\") \n",
    "    print (finaldata)\n",
    "\n",
    "elif (filter=='B'):\n",
    "    newdata=data.loc[data.index[0:334],[\"sat name\", \"NORAD\", \"Operator\",\"FrequencyBand\"]] #selecting the Column to display based on the filter\n",
    "    finaldata = newdata[newdata.FrequencyBand.notnull()] #excluding blank frequency band values\n",
    "    bothdata = finaldata[finaldata.Operator.notnull()] #excluding blank operator values\n",
    "\n",
    "    print (\"Below is the data filtered based on Operator and Frequency Band:\") \n",
    "    print (bothdata)\n",
    "    \n",
    "else:\n",
    "    finaldata=data.loc[data.index[0:334],[\"sat name\", \"NORAD\", \"Operator\",\"FrequencyBand\"]] #selecting the Column to display based on the filter\n",
    "    print (finaldata)"
   ]
  }
 ],
 "metadata": {
  "kernelspec": {
   "display_name": "base",
   "language": "python",
   "name": "python3"
  },
  "language_info": {
   "codemirror_mode": {
    "name": "ipython",
    "version": 3
   },
   "file_extension": ".py",
   "mimetype": "text/x-python",
   "name": "python",
   "nbconvert_exporter": "python",
   "pygments_lexer": "ipython3",
   "version": "3.8.5 (default, Sep  3 2020, 21:29:08) [MSC v.1916 64 bit (AMD64)]"
  },
  "orig_nbformat": 4,
  "vscode": {
   "interpreter": {
    "hash": "7de075a0ccc5c52ec5a97163c3746563433494a948fffeb476fbe896e1d1fe42"
   }
  }
 },
 "nbformat": 4,
 "nbformat_minor": 2
}
